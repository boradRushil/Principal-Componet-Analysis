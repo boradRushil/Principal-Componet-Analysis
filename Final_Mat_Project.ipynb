{
  "nbformat": 4,
  "nbformat_minor": 0,
  "metadata": {
    "colab": {
      "provenance": []
    },
    "kernelspec": {
      "name": "python3",
      "display_name": "Python 3"
    }
  },
  "cells": [
    {
      "cell_type": "code",
      "metadata": {
        "id": "qQ8U1qCnEwRX"
      },
      "source": [
        "url = '/content/indian_liver_patient.csv'"
      ],
      "execution_count": null,
      "outputs": []
    },
    {
      "cell_type": "code",
      "metadata": {
        "id": "2n0Z9cBYFDLs",
        "outputId": "30360b72-33ff-4576-e3a3-bc72218041d1",
        "colab": {
          "base_uri": "https://localhost:8080/",
          "height": 194
        }
      },
      "source": [
        "import pandas as pd\n",
        "\n",
        "data = pd.read_csv(url)\n",
        "data.shape\n",
        "data.head(5)"
      ],
      "execution_count": null,
      "outputs": [
        {
          "output_type": "execute_result",
          "data": {
            "text/html": [
              "<div>\n",
              "<style scoped>\n",
              "    .dataframe tbody tr th:only-of-type {\n",
              "        vertical-align: middle;\n",
              "    }\n",
              "\n",
              "    .dataframe tbody tr th {\n",
              "        vertical-align: top;\n",
              "    }\n",
              "\n",
              "    .dataframe thead th {\n",
              "        text-align: right;\n",
              "    }\n",
              "</style>\n",
              "<table border=\"1\" class=\"dataframe\">\n",
              "  <thead>\n",
              "    <tr style=\"text-align: right;\">\n",
              "      <th></th>\n",
              "      <th>Age</th>\n",
              "      <th>Gender</th>\n",
              "      <th>Total_Bilirubin</th>\n",
              "      <th>Direct_Bilirubin</th>\n",
              "      <th>Alkaline_Phosphotase</th>\n",
              "      <th>Alamine_Aminotransferase</th>\n",
              "      <th>Aspartate_Aminotransferase</th>\n",
              "      <th>Total_Protiens</th>\n",
              "      <th>Albumin</th>\n",
              "      <th>Albumin_and_Globulin_Ratio</th>\n",
              "      <th>Dataset</th>\n",
              "    </tr>\n",
              "  </thead>\n",
              "  <tbody>\n",
              "    <tr>\n",
              "      <th>0</th>\n",
              "      <td>65</td>\n",
              "      <td>Female</td>\n",
              "      <td>0.7</td>\n",
              "      <td>0.1</td>\n",
              "      <td>187</td>\n",
              "      <td>16</td>\n",
              "      <td>18</td>\n",
              "      <td>6.8</td>\n",
              "      <td>3.3</td>\n",
              "      <td>0.90</td>\n",
              "      <td>1</td>\n",
              "    </tr>\n",
              "    <tr>\n",
              "      <th>1</th>\n",
              "      <td>62</td>\n",
              "      <td>Male</td>\n",
              "      <td>10.9</td>\n",
              "      <td>5.5</td>\n",
              "      <td>699</td>\n",
              "      <td>64</td>\n",
              "      <td>100</td>\n",
              "      <td>7.5</td>\n",
              "      <td>3.2</td>\n",
              "      <td>0.74</td>\n",
              "      <td>1</td>\n",
              "    </tr>\n",
              "    <tr>\n",
              "      <th>2</th>\n",
              "      <td>62</td>\n",
              "      <td>Male</td>\n",
              "      <td>7.3</td>\n",
              "      <td>4.1</td>\n",
              "      <td>490</td>\n",
              "      <td>60</td>\n",
              "      <td>68</td>\n",
              "      <td>7.0</td>\n",
              "      <td>3.3</td>\n",
              "      <td>0.89</td>\n",
              "      <td>1</td>\n",
              "    </tr>\n",
              "    <tr>\n",
              "      <th>3</th>\n",
              "      <td>58</td>\n",
              "      <td>Male</td>\n",
              "      <td>1.0</td>\n",
              "      <td>0.4</td>\n",
              "      <td>182</td>\n",
              "      <td>14</td>\n",
              "      <td>20</td>\n",
              "      <td>6.8</td>\n",
              "      <td>3.4</td>\n",
              "      <td>1.00</td>\n",
              "      <td>1</td>\n",
              "    </tr>\n",
              "    <tr>\n",
              "      <th>4</th>\n",
              "      <td>72</td>\n",
              "      <td>Male</td>\n",
              "      <td>3.9</td>\n",
              "      <td>2.0</td>\n",
              "      <td>195</td>\n",
              "      <td>27</td>\n",
              "      <td>59</td>\n",
              "      <td>7.3</td>\n",
              "      <td>2.4</td>\n",
              "      <td>0.40</td>\n",
              "      <td>1</td>\n",
              "    </tr>\n",
              "  </tbody>\n",
              "</table>\n",
              "</div>"
            ],
            "text/plain": [
              "   Age  Gender  Total_Bilirubin  ...  Albumin  Albumin_and_Globulin_Ratio  Dataset\n",
              "0   65  Female              0.7  ...      3.3                        0.90        1\n",
              "1   62    Male             10.9  ...      3.2                        0.74        1\n",
              "2   62    Male              7.3  ...      3.3                        0.89        1\n",
              "3   58    Male              1.0  ...      3.4                        1.00        1\n",
              "4   72    Male              3.9  ...      2.4                        0.40        1\n",
              "\n",
              "[5 rows x 11 columns]"
            ]
          },
          "metadata": {
            "tags": []
          },
          "execution_count": 74
        }
      ]
    },
    {
      "cell_type": "code",
      "metadata": {
        "id": "FpiAYw_9FE-R",
        "outputId": "c81985d0-2f64-4943-b463-afa8db966a40",
        "colab": {
          "base_uri": "https://localhost:8080/"
        }
      },
      "source": [
        "data.info()"
      ],
      "execution_count": null,
      "outputs": [
        {
          "output_type": "stream",
          "text": [
            "<class 'pandas.core.frame.DataFrame'>\n",
            "RangeIndex: 583 entries, 0 to 582\n",
            "Data columns (total 11 columns):\n",
            " #   Column                      Non-Null Count  Dtype  \n",
            "---  ------                      --------------  -----  \n",
            " 0   Age                         583 non-null    int64  \n",
            " 1   Gender                      583 non-null    object \n",
            " 2   Total_Bilirubin             583 non-null    float64\n",
            " 3   Direct_Bilirubin            583 non-null    float64\n",
            " 4   Alkaline_Phosphotase        583 non-null    int64  \n",
            " 5   Alamine_Aminotransferase    583 non-null    int64  \n",
            " 6   Aspartate_Aminotransferase  583 non-null    int64  \n",
            " 7   Total_Protiens              583 non-null    float64\n",
            " 8   Albumin                     583 non-null    float64\n",
            " 9   Albumin_and_Globulin_Ratio  579 non-null    float64\n",
            " 10  Dataset                     583 non-null    int64  \n",
            "dtypes: float64(5), int64(5), object(1)\n",
            "memory usage: 50.2+ KB\n"
          ],
          "name": "stdout"
        }
      ]
    },
    {
      "cell_type": "markdown",
      "metadata": {
        "id": "vBcAUIaON-ch"
      },
      "source": [
        "Filtering of the data showed us that there exists 4 null values in the Albumin and Globulin Ratio column\n"
      ]
    },
    {
      "cell_type": "code",
      "metadata": {
        "id": "pZmSW00uFHaw",
        "outputId": "65ec12bf-d187-41ff-9ef2-e74939ad82b0",
        "colab": {
          "base_uri": "https://localhost:8080/",
          "height": 370
        }
      },
      "source": [
        "#Describe gives statistical information about NUMERICAL columns in the dataset\n",
        "data.describe(include='all')\n",
        "#We can see that there are missing values for Albumin_and_Globulin_Ratio as only 579 entries have valid values indicating 4 missing values.\n",
        "#Gender has only 2 values - Male/Female"
      ],
      "execution_count": null,
      "outputs": [
        {
          "output_type": "execute_result",
          "data": {
            "text/html": [
              "<div>\n",
              "<style scoped>\n",
              "    .dataframe tbody tr th:only-of-type {\n",
              "        vertical-align: middle;\n",
              "    }\n",
              "\n",
              "    .dataframe tbody tr th {\n",
              "        vertical-align: top;\n",
              "    }\n",
              "\n",
              "    .dataframe thead th {\n",
              "        text-align: right;\n",
              "    }\n",
              "</style>\n",
              "<table border=\"1\" class=\"dataframe\">\n",
              "  <thead>\n",
              "    <tr style=\"text-align: right;\">\n",
              "      <th></th>\n",
              "      <th>Age</th>\n",
              "      <th>Gender</th>\n",
              "      <th>Total_Bilirubin</th>\n",
              "      <th>Direct_Bilirubin</th>\n",
              "      <th>Alkaline_Phosphotase</th>\n",
              "      <th>Alamine_Aminotransferase</th>\n",
              "      <th>Aspartate_Aminotransferase</th>\n",
              "      <th>Total_Protiens</th>\n",
              "      <th>Albumin</th>\n",
              "      <th>Albumin_and_Globulin_Ratio</th>\n",
              "      <th>Dataset</th>\n",
              "    </tr>\n",
              "  </thead>\n",
              "  <tbody>\n",
              "    <tr>\n",
              "      <th>count</th>\n",
              "      <td>583.000000</td>\n",
              "      <td>583</td>\n",
              "      <td>583.000000</td>\n",
              "      <td>583.000000</td>\n",
              "      <td>583.000000</td>\n",
              "      <td>583.000000</td>\n",
              "      <td>583.000000</td>\n",
              "      <td>583.000000</td>\n",
              "      <td>583.000000</td>\n",
              "      <td>579.000000</td>\n",
              "      <td>583.000000</td>\n",
              "    </tr>\n",
              "    <tr>\n",
              "      <th>unique</th>\n",
              "      <td>NaN</td>\n",
              "      <td>2</td>\n",
              "      <td>NaN</td>\n",
              "      <td>NaN</td>\n",
              "      <td>NaN</td>\n",
              "      <td>NaN</td>\n",
              "      <td>NaN</td>\n",
              "      <td>NaN</td>\n",
              "      <td>NaN</td>\n",
              "      <td>NaN</td>\n",
              "      <td>NaN</td>\n",
              "    </tr>\n",
              "    <tr>\n",
              "      <th>top</th>\n",
              "      <td>NaN</td>\n",
              "      <td>Male</td>\n",
              "      <td>NaN</td>\n",
              "      <td>NaN</td>\n",
              "      <td>NaN</td>\n",
              "      <td>NaN</td>\n",
              "      <td>NaN</td>\n",
              "      <td>NaN</td>\n",
              "      <td>NaN</td>\n",
              "      <td>NaN</td>\n",
              "      <td>NaN</td>\n",
              "    </tr>\n",
              "    <tr>\n",
              "      <th>freq</th>\n",
              "      <td>NaN</td>\n",
              "      <td>441</td>\n",
              "      <td>NaN</td>\n",
              "      <td>NaN</td>\n",
              "      <td>NaN</td>\n",
              "      <td>NaN</td>\n",
              "      <td>NaN</td>\n",
              "      <td>NaN</td>\n",
              "      <td>NaN</td>\n",
              "      <td>NaN</td>\n",
              "      <td>NaN</td>\n",
              "    </tr>\n",
              "    <tr>\n",
              "      <th>mean</th>\n",
              "      <td>44.746141</td>\n",
              "      <td>NaN</td>\n",
              "      <td>3.298799</td>\n",
              "      <td>1.486106</td>\n",
              "      <td>290.576329</td>\n",
              "      <td>80.713551</td>\n",
              "      <td>109.910806</td>\n",
              "      <td>6.483190</td>\n",
              "      <td>3.141852</td>\n",
              "      <td>0.947064</td>\n",
              "      <td>1.286449</td>\n",
              "    </tr>\n",
              "    <tr>\n",
              "      <th>std</th>\n",
              "      <td>16.189833</td>\n",
              "      <td>NaN</td>\n",
              "      <td>6.209522</td>\n",
              "      <td>2.808498</td>\n",
              "      <td>242.937989</td>\n",
              "      <td>182.620356</td>\n",
              "      <td>288.918529</td>\n",
              "      <td>1.085451</td>\n",
              "      <td>0.795519</td>\n",
              "      <td>0.319592</td>\n",
              "      <td>0.452490</td>\n",
              "    </tr>\n",
              "    <tr>\n",
              "      <th>min</th>\n",
              "      <td>4.000000</td>\n",
              "      <td>NaN</td>\n",
              "      <td>0.400000</td>\n",
              "      <td>0.100000</td>\n",
              "      <td>63.000000</td>\n",
              "      <td>10.000000</td>\n",
              "      <td>10.000000</td>\n",
              "      <td>2.700000</td>\n",
              "      <td>0.900000</td>\n",
              "      <td>0.300000</td>\n",
              "      <td>1.000000</td>\n",
              "    </tr>\n",
              "    <tr>\n",
              "      <th>25%</th>\n",
              "      <td>33.000000</td>\n",
              "      <td>NaN</td>\n",
              "      <td>0.800000</td>\n",
              "      <td>0.200000</td>\n",
              "      <td>175.500000</td>\n",
              "      <td>23.000000</td>\n",
              "      <td>25.000000</td>\n",
              "      <td>5.800000</td>\n",
              "      <td>2.600000</td>\n",
              "      <td>0.700000</td>\n",
              "      <td>1.000000</td>\n",
              "    </tr>\n",
              "    <tr>\n",
              "      <th>50%</th>\n",
              "      <td>45.000000</td>\n",
              "      <td>NaN</td>\n",
              "      <td>1.000000</td>\n",
              "      <td>0.300000</td>\n",
              "      <td>208.000000</td>\n",
              "      <td>35.000000</td>\n",
              "      <td>42.000000</td>\n",
              "      <td>6.600000</td>\n",
              "      <td>3.100000</td>\n",
              "      <td>0.930000</td>\n",
              "      <td>1.000000</td>\n",
              "    </tr>\n",
              "    <tr>\n",
              "      <th>75%</th>\n",
              "      <td>58.000000</td>\n",
              "      <td>NaN</td>\n",
              "      <td>2.600000</td>\n",
              "      <td>1.300000</td>\n",
              "      <td>298.000000</td>\n",
              "      <td>60.500000</td>\n",
              "      <td>87.000000</td>\n",
              "      <td>7.200000</td>\n",
              "      <td>3.800000</td>\n",
              "      <td>1.100000</td>\n",
              "      <td>2.000000</td>\n",
              "    </tr>\n",
              "    <tr>\n",
              "      <th>max</th>\n",
              "      <td>90.000000</td>\n",
              "      <td>NaN</td>\n",
              "      <td>75.000000</td>\n",
              "      <td>19.700000</td>\n",
              "      <td>2110.000000</td>\n",
              "      <td>2000.000000</td>\n",
              "      <td>4929.000000</td>\n",
              "      <td>9.600000</td>\n",
              "      <td>5.500000</td>\n",
              "      <td>2.800000</td>\n",
              "      <td>2.000000</td>\n",
              "    </tr>\n",
              "  </tbody>\n",
              "</table>\n",
              "</div>"
            ],
            "text/plain": [
              "               Age Gender  ...  Albumin_and_Globulin_Ratio     Dataset\n",
              "count   583.000000    583  ...                  579.000000  583.000000\n",
              "unique         NaN      2  ...                         NaN         NaN\n",
              "top            NaN   Male  ...                         NaN         NaN\n",
              "freq           NaN    441  ...                         NaN         NaN\n",
              "mean     44.746141    NaN  ...                    0.947064    1.286449\n",
              "std      16.189833    NaN  ...                    0.319592    0.452490\n",
              "min       4.000000    NaN  ...                    0.300000    1.000000\n",
              "25%      33.000000    NaN  ...                    0.700000    1.000000\n",
              "50%      45.000000    NaN  ...                    0.930000    1.000000\n",
              "75%      58.000000    NaN  ...                    1.100000    2.000000\n",
              "max      90.000000    NaN  ...                    2.800000    2.000000\n",
              "\n",
              "[11 rows x 11 columns]"
            ]
          },
          "metadata": {
            "tags": []
          },
          "execution_count": 76
        }
      ]
    },
    {
      "cell_type": "code",
      "metadata": {
        "id": "easNA-wKFJPl",
        "outputId": "61044970-f1bf-4bfe-925a-7ca21e0b1521",
        "colab": {
          "base_uri": "https://localhost:8080/"
        }
      },
      "source": [
        "#Which features are available in the dataset?\n",
        "data.columns"
      ],
      "execution_count": null,
      "outputs": [
        {
          "output_type": "execute_result",
          "data": {
            "text/plain": [
              "Index(['Age', 'Gender', 'Total_Bilirubin', 'Direct_Bilirubin',\n",
              "       'Alkaline_Phosphotase', 'Alamine_Aminotransferase',\n",
              "       'Aspartate_Aminotransferase', 'Total_Protiens', 'Albumin',\n",
              "       'Albumin_and_Globulin_Ratio', 'Dataset'],\n",
              "      dtype='object')"
            ]
          },
          "metadata": {
            "tags": []
          },
          "execution_count": 77
        }
      ]
    },
    {
      "cell_type": "code",
      "metadata": {
        "id": "e-lpzHumFMAB",
        "outputId": "77c5cce3-4002-4819-d757-6b670b4ad2fc",
        "colab": {
          "base_uri": "https://localhost:8080/"
        }
      },
      "source": [
        "#Check for any null values\n",
        "data.isnull().sum()"
      ],
      "execution_count": null,
      "outputs": [
        {
          "output_type": "execute_result",
          "data": {
            "text/plain": [
              "Age                           0\n",
              "Gender                        0\n",
              "Total_Bilirubin               0\n",
              "Direct_Bilirubin              0\n",
              "Alkaline_Phosphotase          0\n",
              "Alamine_Aminotransferase      0\n",
              "Aspartate_Aminotransferase    0\n",
              "Total_Protiens                0\n",
              "Albumin                       0\n",
              "Albumin_and_Globulin_Ratio    4\n",
              "Dataset                       0\n",
              "dtype: int64"
            ]
          },
          "metadata": {
            "tags": []
          },
          "execution_count": 78
        }
      ]
    },
    {
      "cell_type": "code",
      "metadata": {
        "id": "Y6IMnpNkHBIr"
      },
      "source": [
        "data.dropna(subset = [\"Albumin_and_Globulin_Ratio\"], inplace=True)"
      ],
      "execution_count": null,
      "outputs": []
    },
    {
      "cell_type": "code",
      "metadata": {
        "id": "urYfNXIPHD5O",
        "outputId": "f150a191-156f-4b6c-a620-944ada80e904",
        "colab": {
          "base_uri": "https://localhost:8080/"
        }
      },
      "source": [
        "data.isnull().sum()"
      ],
      "execution_count": null,
      "outputs": [
        {
          "output_type": "execute_result",
          "data": {
            "text/plain": [
              "Age                           0\n",
              "Gender                        0\n",
              "Total_Bilirubin               0\n",
              "Direct_Bilirubin              0\n",
              "Alkaline_Phosphotase          0\n",
              "Alamine_Aminotransferase      0\n",
              "Aspartate_Aminotransferase    0\n",
              "Total_Protiens                0\n",
              "Albumin                       0\n",
              "Albumin_and_Globulin_Ratio    0\n",
              "Dataset                       0\n",
              "dtype: int64"
            ]
          },
          "metadata": {
            "tags": []
          },
          "execution_count": 80
        }
      ]
    },
    {
      "cell_type": "code",
      "metadata": {
        "id": "QdapsSAkFOwb"
      },
      "source": [
        "del data['Gender']"
      ],
      "execution_count": null,
      "outputs": []
    },
    {
      "cell_type": "code",
      "metadata": {
        "id": "VGYW0TkQFRF0",
        "outputId": "34316610-bbb2-48f6-bf0f-d237e79d57b6",
        "colab": {
          "base_uri": "https://localhost:8080/",
          "height": 399
        }
      },
      "source": [
        "X1 = data.loc[:,'Age':'Albumin_and_Globulin_Ratio']\n",
        "y1 = data['Dataset']\n",
        "X1.shape\n",
        "\n",
        "X1"
      ],
      "execution_count": null,
      "outputs": [
        {
          "output_type": "execute_result",
          "data": {
            "text/html": [
              "<div>\n",
              "<style scoped>\n",
              "    .dataframe tbody tr th:only-of-type {\n",
              "        vertical-align: middle;\n",
              "    }\n",
              "\n",
              "    .dataframe tbody tr th {\n",
              "        vertical-align: top;\n",
              "    }\n",
              "\n",
              "    .dataframe thead th {\n",
              "        text-align: right;\n",
              "    }\n",
              "</style>\n",
              "<table border=\"1\" class=\"dataframe\">\n",
              "  <thead>\n",
              "    <tr style=\"text-align: right;\">\n",
              "      <th></th>\n",
              "      <th>Age</th>\n",
              "      <th>Total_Bilirubin</th>\n",
              "      <th>Direct_Bilirubin</th>\n",
              "      <th>Alkaline_Phosphotase</th>\n",
              "      <th>Alamine_Aminotransferase</th>\n",
              "      <th>Aspartate_Aminotransferase</th>\n",
              "      <th>Total_Protiens</th>\n",
              "      <th>Albumin</th>\n",
              "      <th>Albumin_and_Globulin_Ratio</th>\n",
              "    </tr>\n",
              "  </thead>\n",
              "  <tbody>\n",
              "    <tr>\n",
              "      <th>0</th>\n",
              "      <td>65</td>\n",
              "      <td>0.7</td>\n",
              "      <td>0.1</td>\n",
              "      <td>187</td>\n",
              "      <td>16</td>\n",
              "      <td>18</td>\n",
              "      <td>6.8</td>\n",
              "      <td>3.3</td>\n",
              "      <td>0.90</td>\n",
              "    </tr>\n",
              "    <tr>\n",
              "      <th>1</th>\n",
              "      <td>62</td>\n",
              "      <td>10.9</td>\n",
              "      <td>5.5</td>\n",
              "      <td>699</td>\n",
              "      <td>64</td>\n",
              "      <td>100</td>\n",
              "      <td>7.5</td>\n",
              "      <td>3.2</td>\n",
              "      <td>0.74</td>\n",
              "    </tr>\n",
              "    <tr>\n",
              "      <th>2</th>\n",
              "      <td>62</td>\n",
              "      <td>7.3</td>\n",
              "      <td>4.1</td>\n",
              "      <td>490</td>\n",
              "      <td>60</td>\n",
              "      <td>68</td>\n",
              "      <td>7.0</td>\n",
              "      <td>3.3</td>\n",
              "      <td>0.89</td>\n",
              "    </tr>\n",
              "    <tr>\n",
              "      <th>3</th>\n",
              "      <td>58</td>\n",
              "      <td>1.0</td>\n",
              "      <td>0.4</td>\n",
              "      <td>182</td>\n",
              "      <td>14</td>\n",
              "      <td>20</td>\n",
              "      <td>6.8</td>\n",
              "      <td>3.4</td>\n",
              "      <td>1.00</td>\n",
              "    </tr>\n",
              "    <tr>\n",
              "      <th>4</th>\n",
              "      <td>72</td>\n",
              "      <td>3.9</td>\n",
              "      <td>2.0</td>\n",
              "      <td>195</td>\n",
              "      <td>27</td>\n",
              "      <td>59</td>\n",
              "      <td>7.3</td>\n",
              "      <td>2.4</td>\n",
              "      <td>0.40</td>\n",
              "    </tr>\n",
              "    <tr>\n",
              "      <th>...</th>\n",
              "      <td>...</td>\n",
              "      <td>...</td>\n",
              "      <td>...</td>\n",
              "      <td>...</td>\n",
              "      <td>...</td>\n",
              "      <td>...</td>\n",
              "      <td>...</td>\n",
              "      <td>...</td>\n",
              "      <td>...</td>\n",
              "    </tr>\n",
              "    <tr>\n",
              "      <th>578</th>\n",
              "      <td>60</td>\n",
              "      <td>0.5</td>\n",
              "      <td>0.1</td>\n",
              "      <td>500</td>\n",
              "      <td>20</td>\n",
              "      <td>34</td>\n",
              "      <td>5.9</td>\n",
              "      <td>1.6</td>\n",
              "      <td>0.37</td>\n",
              "    </tr>\n",
              "    <tr>\n",
              "      <th>579</th>\n",
              "      <td>40</td>\n",
              "      <td>0.6</td>\n",
              "      <td>0.1</td>\n",
              "      <td>98</td>\n",
              "      <td>35</td>\n",
              "      <td>31</td>\n",
              "      <td>6.0</td>\n",
              "      <td>3.2</td>\n",
              "      <td>1.10</td>\n",
              "    </tr>\n",
              "    <tr>\n",
              "      <th>580</th>\n",
              "      <td>52</td>\n",
              "      <td>0.8</td>\n",
              "      <td>0.2</td>\n",
              "      <td>245</td>\n",
              "      <td>48</td>\n",
              "      <td>49</td>\n",
              "      <td>6.4</td>\n",
              "      <td>3.2</td>\n",
              "      <td>1.00</td>\n",
              "    </tr>\n",
              "    <tr>\n",
              "      <th>581</th>\n",
              "      <td>31</td>\n",
              "      <td>1.3</td>\n",
              "      <td>0.5</td>\n",
              "      <td>184</td>\n",
              "      <td>29</td>\n",
              "      <td>32</td>\n",
              "      <td>6.8</td>\n",
              "      <td>3.4</td>\n",
              "      <td>1.00</td>\n",
              "    </tr>\n",
              "    <tr>\n",
              "      <th>582</th>\n",
              "      <td>38</td>\n",
              "      <td>1.0</td>\n",
              "      <td>0.3</td>\n",
              "      <td>216</td>\n",
              "      <td>21</td>\n",
              "      <td>24</td>\n",
              "      <td>7.3</td>\n",
              "      <td>4.4</td>\n",
              "      <td>1.50</td>\n",
              "    </tr>\n",
              "  </tbody>\n",
              "</table>\n",
              "<p>579 rows × 9 columns</p>\n",
              "</div>"
            ],
            "text/plain": [
              "     Age  Total_Bilirubin  ...  Albumin  Albumin_and_Globulin_Ratio\n",
              "0     65              0.7  ...      3.3                        0.90\n",
              "1     62             10.9  ...      3.2                        0.74\n",
              "2     62              7.3  ...      3.3                        0.89\n",
              "3     58              1.0  ...      3.4                        1.00\n",
              "4     72              3.9  ...      2.4                        0.40\n",
              "..   ...              ...  ...      ...                         ...\n",
              "578   60              0.5  ...      1.6                        0.37\n",
              "579   40              0.6  ...      3.2                        1.10\n",
              "580   52              0.8  ...      3.2                        1.00\n",
              "581   31              1.3  ...      3.4                        1.00\n",
              "582   38              1.0  ...      4.4                        1.50\n",
              "\n",
              "[579 rows x 9 columns]"
            ]
          },
          "metadata": {
            "tags": []
          },
          "execution_count": 82
        }
      ]
    },
    {
      "cell_type": "markdown",
      "metadata": {
        "id": "k0i6iNzfFURB"
      },
      "source": [
        "How PCA uses concept of eigendecomposition?\n",
        "\n",
        "Say, we have a dataset with ‘n’ predictor variables. We center the predictors to their respective means and then get an n x n covariance matrix. This covariance matrix is then decomposed into eigenvalues and eigenvectors."
      ]
    },
    {
      "cell_type": "code",
      "metadata": {
        "id": "cTRXXRouFWDd"
      },
      "source": [
        "def dot_prod(A, v):\n",
        "  dotproduct=0\n",
        "  for i,j in zip(A,v):\n",
        "\t  dotproduct += i*j\n",
        "  return dotproduct"
      ],
      "execution_count": null,
      "outputs": []
    },
    {
      "cell_type": "code",
      "metadata": {
        "id": "tOvbPi7oFYIE"
      },
      "source": [
        "import numpy as np\n",
        "from numpy.core import atleast_1d, transpose\n",
        "from numpy.core.numeric import (\n",
        "    ones, zeros, arange, array, asarray, asanyarray,\n",
        "    ndarray, around, floor, ceil, dot, where,\n",
        "    integer, isscalar, absolute\n",
        "    )\n",
        "from numpy.core.fromnumeric import (mean, sum)\n",
        "\n",
        "def average(a, axis=None, weights=None, returned=False):\n",
        "\n",
        "    a = np.asanyarray(a)\n",
        "\n",
        "    if weights is None:\n",
        "        avg = a.mean(axis)\n",
        "        scl = avg.dtype.type(a.size/avg.size)\n",
        "    else:\n",
        "        wgt = np.asanyarray(weights)\n",
        "\n",
        "        if issubclass(a.dtype.type, (np.integer, np.bool_)):\n",
        "            result_dtype = np.result_type(a.dtype, wgt.dtype, 'f8')\n",
        "        else:\n",
        "            result_dtype = np.result_type(a.dtype, wgt.dtype)\n",
        "\n",
        "        # Sanity checks\n",
        "        if a.shape != wgt.shape:\n",
        "            if axis is None:\n",
        "                raise TypeError(\n",
        "                    \"Axis must be specified when shapes of a and weights \"\n",
        "                    \"differ.\")\n",
        "            if wgt.ndim != 1:\n",
        "                raise TypeError(\n",
        "                    \"1D weights expected when shapes of a and weights differ.\")\n",
        "            if wgt.shape[0] != a.shape[axis]:\n",
        "                raise ValueError(\n",
        "                    \"Length of weights not compatible with specified axis.\")\n",
        "\n",
        "            # setup wgt to broadcast along axis\n",
        "            wgt = np.broadcast_to(wgt, (a.ndim-1)*(1,) + wgt.shape)\n",
        "            wgt = wgt.swapaxes(-1, axis)\n",
        "\n",
        "        scl = wgt.sum(axis=axis, dtype=result_dtype)\n",
        "        if np.any(scl == 0.0):\n",
        "            raise ZeroDivisionError(\n",
        "                \"Weights sum to zero, can't be normalized\")\n",
        "\n",
        "        avg = np.multiply(a, wgt, dtype=result_dtype).sum(axis)/scl\n",
        "\n",
        "    if returned:\n",
        "        if scl.shape != avg.shape:\n",
        "            scl = np.broadcast_to(scl, avg.shape).copy()\n",
        "        return avg, scl\n",
        "    else:\n",
        "        return avg\n",
        "\n",
        "\n",
        "def cov(m, y=None, rowvar=True, bias=False, ddof=None, fweights=None,\n",
        "        aweights=None):\n",
        "   \n",
        "    if ddof is not None and ddof != int(ddof):\n",
        "        raise ValueError(\n",
        "            \"ddof must be integer\")\n",
        "\n",
        "    # Handles complex arrays too\n",
        "    m = np.asarray(m)\n",
        "    if m.ndim > 2:\n",
        "        raise ValueError(\"m has more than 2 dimensions\")\n",
        "\n",
        "    if y is None:\n",
        "        dtype = np.result_type(m, np.float64)\n",
        "    else:\n",
        "        y = np.asarray(y)\n",
        "        if y.ndim > 2:\n",
        "            raise ValueError(\"y has more than 2 dimensions\")\n",
        "        dtype = np.result_type(m, y, np.float64)\n",
        "\n",
        "    X = array(m, ndmin=2, dtype=dtype)\n",
        "    if not rowvar and X.shape[0] != 1:\n",
        "        X = X.T\n",
        "    if X.shape[0] == 0:\n",
        "        return np.array([]).reshape(0, 0)\n",
        "    if y is not None:\n",
        "        y = array(y, copy=False, ndmin=2, dtype=dtype)\n",
        "        if not rowvar and y.shape[0] != 1:\n",
        "            y = y.T\n",
        "        X = np.concatenate((X, y), axis=0)\n",
        "\n",
        "    if ddof is None:\n",
        "        if bias == 0:\n",
        "            ddof = 1\n",
        "        else:\n",
        "            ddof = 0\n",
        "\n",
        "    # Get the product of frequencies and weights\n",
        "    w = None\n",
        "    if fweights is not None:\n",
        "        fweights = np.asarray(fweights, dtype=float)\n",
        "        if not np.all(fweights == np.around(fweights)):\n",
        "            raise TypeError(\n",
        "                \"fweights must be integer\")\n",
        "        if fweights.ndim > 1:\n",
        "            raise RuntimeError(\n",
        "                \"cannot handle multidimensional fweights\")\n",
        "        if fweights.shape[0] != X.shape[1]:\n",
        "            raise RuntimeError(\n",
        "                \"incompatible numbers of samples and fweights\")\n",
        "        if any(fweights < 0):\n",
        "            raise ValueError(\n",
        "                \"fweights cannot be negative\")\n",
        "        w = fweights\n",
        "    if aweights is not None:\n",
        "        aweights = np.asarray(aweights, dtype=float)\n",
        "        if aweights.ndim > 1:\n",
        "            raise RuntimeError(\n",
        "                \"cannot handle multidimensional aweights\")\n",
        "        if aweights.shape[0] != X.shape[1]:\n",
        "            raise RuntimeError(\n",
        "                \"incompatible numbers of samples and aweights\")\n",
        "        if any(aweights < 0):\n",
        "            raise ValueError(\n",
        "                \"aweights cannot be negative\")\n",
        "        if w is None:\n",
        "            w = aweights\n",
        "        else:\n",
        "            w *= aweights\n",
        "\n",
        "    avg, w_sum = average(X, axis=1, weights=w, returned=True)\n",
        "    w_sum = w_sum[0]\n",
        "\n",
        "    # Determine the normalization\n",
        "    if w is None:\n",
        "        fact = X.shape[1] - ddof\n",
        "    elif ddof == 0:\n",
        "        fact = w_sum\n",
        "    elif aweights is None:\n",
        "        fact = w_sum - ddof\n",
        "    else:\n",
        "        fact = w_sum - ddof*sum(w*aweights)/w_sum\n",
        "\n",
        "    if fact <= 0:\n",
        "        warnings.warn(\"Degrees of freedom <= 0 for slice\",\n",
        "                      RuntimeWarning, stacklevel=3)\n",
        "        fact = 0.0\n",
        "\n",
        "    X -= avg[:, None]\n",
        "    if w is None:\n",
        "        X_T = X.T\n",
        "    else:\n",
        "        X_T = (X*w).T\n",
        "    c = dot(X, X_T.conj())\n",
        "    c *= np.true_divide(1, fact)\n",
        "    return c.squeeze()\n"
      ],
      "execution_count": null,
      "outputs": []
    },
    {
      "cell_type": "markdown",
      "metadata": {
        "id": "Oy5W7uj8OON7"
      },
      "source": [
        "Some researchers say that it is a good idea to mean center variables prior to computing a product term (to serve as a moderator term) because doing so will help reduce multicollinearity in a regression model."
      ]
    },
    {
      "cell_type": "code",
      "metadata": {
        "id": "ehl-JXKTFczX",
        "outputId": "94d3656b-0e50-4d78-c2f2-aae552626f3e",
        "colab": {
          "base_uri": "https://localhost:8080/",
          "height": 399
        }
      },
      "source": [
        "M = mean(X1.T, axis=1) #calculate mean of each column\n",
        "C = X1 - M #center columns by subtracting column means\n",
        "C"
      ],
      "execution_count": null,
      "outputs": [
        {
          "output_type": "execute_result",
          "data": {
            "text/html": [
              "<div>\n",
              "<style scoped>\n",
              "    .dataframe tbody tr th:only-of-type {\n",
              "        vertical-align: middle;\n",
              "    }\n",
              "\n",
              "    .dataframe tbody tr th {\n",
              "        vertical-align: top;\n",
              "    }\n",
              "\n",
              "    .dataframe thead th {\n",
              "        text-align: right;\n",
              "    }\n",
              "</style>\n",
              "<table border=\"1\" class=\"dataframe\">\n",
              "  <thead>\n",
              "    <tr style=\"text-align: right;\">\n",
              "      <th></th>\n",
              "      <th>Age</th>\n",
              "      <th>Total_Bilirubin</th>\n",
              "      <th>Direct_Bilirubin</th>\n",
              "      <th>Alkaline_Phosphotase</th>\n",
              "      <th>Alamine_Aminotransferase</th>\n",
              "      <th>Aspartate_Aminotransferase</th>\n",
              "      <th>Total_Protiens</th>\n",
              "      <th>Albumin</th>\n",
              "      <th>Albumin_and_Globulin_Ratio</th>\n",
              "    </tr>\n",
              "  </thead>\n",
              "  <tbody>\n",
              "    <tr>\n",
              "      <th>0</th>\n",
              "      <td>20.217617</td>\n",
              "      <td>-2.615371</td>\n",
              "      <td>-1.394128</td>\n",
              "      <td>-104.366149</td>\n",
              "      <td>-65.126079</td>\n",
              "      <td>-92.414508</td>\n",
              "      <td>0.318307</td>\n",
              "      <td>0.161485</td>\n",
              "      <td>-0.047064</td>\n",
              "    </tr>\n",
              "    <tr>\n",
              "      <th>1</th>\n",
              "      <td>17.217617</td>\n",
              "      <td>7.584629</td>\n",
              "      <td>4.005872</td>\n",
              "      <td>407.633851</td>\n",
              "      <td>-17.126079</td>\n",
              "      <td>-10.414508</td>\n",
              "      <td>1.018307</td>\n",
              "      <td>0.061485</td>\n",
              "      <td>-0.207064</td>\n",
              "    </tr>\n",
              "    <tr>\n",
              "      <th>2</th>\n",
              "      <td>17.217617</td>\n",
              "      <td>3.984629</td>\n",
              "      <td>2.605872</td>\n",
              "      <td>198.633851</td>\n",
              "      <td>-21.126079</td>\n",
              "      <td>-42.414508</td>\n",
              "      <td>0.518307</td>\n",
              "      <td>0.161485</td>\n",
              "      <td>-0.057064</td>\n",
              "    </tr>\n",
              "    <tr>\n",
              "      <th>3</th>\n",
              "      <td>13.217617</td>\n",
              "      <td>-2.315371</td>\n",
              "      <td>-1.094128</td>\n",
              "      <td>-109.366149</td>\n",
              "      <td>-67.126079</td>\n",
              "      <td>-90.414508</td>\n",
              "      <td>0.318307</td>\n",
              "      <td>0.261485</td>\n",
              "      <td>0.052936</td>\n",
              "    </tr>\n",
              "    <tr>\n",
              "      <th>4</th>\n",
              "      <td>27.217617</td>\n",
              "      <td>0.584629</td>\n",
              "      <td>0.505872</td>\n",
              "      <td>-96.366149</td>\n",
              "      <td>-54.126079</td>\n",
              "      <td>-51.414508</td>\n",
              "      <td>0.818307</td>\n",
              "      <td>-0.738515</td>\n",
              "      <td>-0.547064</td>\n",
              "    </tr>\n",
              "    <tr>\n",
              "      <th>...</th>\n",
              "      <td>...</td>\n",
              "      <td>...</td>\n",
              "      <td>...</td>\n",
              "      <td>...</td>\n",
              "      <td>...</td>\n",
              "      <td>...</td>\n",
              "      <td>...</td>\n",
              "      <td>...</td>\n",
              "      <td>...</td>\n",
              "    </tr>\n",
              "    <tr>\n",
              "      <th>578</th>\n",
              "      <td>15.217617</td>\n",
              "      <td>-2.815371</td>\n",
              "      <td>-1.394128</td>\n",
              "      <td>208.633851</td>\n",
              "      <td>-61.126079</td>\n",
              "      <td>-76.414508</td>\n",
              "      <td>-0.581693</td>\n",
              "      <td>-1.538515</td>\n",
              "      <td>-0.577064</td>\n",
              "    </tr>\n",
              "    <tr>\n",
              "      <th>579</th>\n",
              "      <td>-4.782383</td>\n",
              "      <td>-2.715371</td>\n",
              "      <td>-1.394128</td>\n",
              "      <td>-193.366149</td>\n",
              "      <td>-46.126079</td>\n",
              "      <td>-79.414508</td>\n",
              "      <td>-0.481693</td>\n",
              "      <td>0.061485</td>\n",
              "      <td>0.152936</td>\n",
              "    </tr>\n",
              "    <tr>\n",
              "      <th>580</th>\n",
              "      <td>7.217617</td>\n",
              "      <td>-2.515371</td>\n",
              "      <td>-1.294128</td>\n",
              "      <td>-46.366149</td>\n",
              "      <td>-33.126079</td>\n",
              "      <td>-61.414508</td>\n",
              "      <td>-0.081693</td>\n",
              "      <td>0.061485</td>\n",
              "      <td>0.052936</td>\n",
              "    </tr>\n",
              "    <tr>\n",
              "      <th>581</th>\n",
              "      <td>-13.782383</td>\n",
              "      <td>-2.015371</td>\n",
              "      <td>-0.994128</td>\n",
              "      <td>-107.366149</td>\n",
              "      <td>-52.126079</td>\n",
              "      <td>-78.414508</td>\n",
              "      <td>0.318307</td>\n",
              "      <td>0.261485</td>\n",
              "      <td>0.052936</td>\n",
              "    </tr>\n",
              "    <tr>\n",
              "      <th>582</th>\n",
              "      <td>-6.782383</td>\n",
              "      <td>-2.315371</td>\n",
              "      <td>-1.194128</td>\n",
              "      <td>-75.366149</td>\n",
              "      <td>-60.126079</td>\n",
              "      <td>-86.414508</td>\n",
              "      <td>0.818307</td>\n",
              "      <td>1.261485</td>\n",
              "      <td>0.552936</td>\n",
              "    </tr>\n",
              "  </tbody>\n",
              "</table>\n",
              "<p>579 rows × 9 columns</p>\n",
              "</div>"
            ],
            "text/plain": [
              "           Age  Total_Bilirubin  ...   Albumin  Albumin_and_Globulin_Ratio\n",
              "0    20.217617        -2.615371  ...  0.161485                   -0.047064\n",
              "1    17.217617         7.584629  ...  0.061485                   -0.207064\n",
              "2    17.217617         3.984629  ...  0.161485                   -0.057064\n",
              "3    13.217617        -2.315371  ...  0.261485                    0.052936\n",
              "4    27.217617         0.584629  ... -0.738515                   -0.547064\n",
              "..         ...              ...  ...       ...                         ...\n",
              "578  15.217617        -2.815371  ... -1.538515                   -0.577064\n",
              "579  -4.782383        -2.715371  ...  0.061485                    0.152936\n",
              "580   7.217617        -2.515371  ...  0.061485                    0.052936\n",
              "581 -13.782383        -2.015371  ...  0.261485                    0.052936\n",
              "582  -6.782383        -2.315371  ...  1.261485                    0.552936\n",
              "\n",
              "[579 rows x 9 columns]"
            ]
          },
          "metadata": {
            "tags": []
          },
          "execution_count": 85
        }
      ]
    },
    {
      "cell_type": "markdown",
      "metadata": {
        "id": "RLqg1qHfFevo"
      },
      "source": [
        "PCA is a method that:\n",
        "\n",
        "Measures how each variable is associated with one another using a Covariance matrix\n",
        "Understands the directions of the spread of our data using Eigenvectors\n",
        "Brings out the relative importance of these directions using Eigenvalues"
      ]
    },
    {
      "cell_type": "code",
      "metadata": {
        "id": "xyDykXn1FhFo",
        "outputId": "e6fb0b84-a4a8-49af-d6a4-a49b899344d2",
        "colab": {
          "base_uri": "https://localhost:8080/"
        }
      },
      "source": [
        "q = cov(C)\n",
        "print(q)\n",
        "print(len(q))"
      ],
      "execution_count": null,
      "outputs": [
        {
          "output_type": "stream",
          "text": [
            "[[ 2175.98466479 -3621.90993011 -1344.19038695 ...  1135.01482467\n",
            "   1831.4004613   1672.79546874]\n",
            " [-3621.90993011 18535.12781944  9355.98325148 ... -1416.83596467\n",
            "  -3843.15193915 -2309.77373727]\n",
            " [-1344.19038695  9355.98325148  4899.0714613  ...  -419.72343541\n",
            "  -1580.48038211  -761.78704134]\n",
            " ...\n",
            " [ 1135.01482467 -1416.83596467  -419.72343541 ...   622.41942899\n",
            "    943.36867673   905.66923973]\n",
            " [ 1831.4004613  -3843.15193915 -1580.48038211 ...   943.36867673\n",
            "   1677.05820226  1452.68390414]\n",
            " [ 1672.79546874 -2309.77373727  -761.78704134 ...   905.66923973\n",
            "   1452.68390414  1370.30155046]]\n",
            "579\n"
          ],
          "name": "stdout"
        }
      ]
    },
    {
      "cell_type": "code",
      "metadata": {
        "id": "Z4LiT1Q32Nb0",
        "outputId": "8043a365-105a-4a4a-ebc3-73834c2dfdb9",
        "colab": {
          "base_uri": "https://localhost:8080/"
        }
      },
      "source": [
        "#eigen decomposition using power method\n",
        "\n",
        "def eigenvalue(A, v):\n",
        "    Av = A.dot(v)\n",
        "    return v.dot(Av)\n",
        "\n",
        "def power_iteration(A):\n",
        "    n, d = A.shape\n",
        "\n",
        "    v = np.ones(d) / np.sqrt(d)\n",
        "    ev = eigenvalue(A, v)\n",
        "\n",
        "    while True:\n",
        "        Av = A.dot(v)\n",
        "        v_new = Av / np.linalg.norm(Av)\n",
        "\n",
        "        ev_new = eigenvalue(A, v_new)\n",
        "        if np.abs(ev - ev_new) < 0.01:\n",
        "            break\n",
        "\n",
        "        v = v_new\n",
        "        ev = ev_new\n",
        "\n",
        "    return ev_new, v_new\n",
        "\n",
        "e, v =power_iteration(q)\n",
        "print('Highest eigen value :', e)\n",
        "print('Resulting eigen vectors : ',v)\n",
        "x = len(v)\n",
        "print(x)"
      ],
      "execution_count": null,
      "outputs": [
        {
          "output_type": "stream",
          "text": [
            "Highest eigen value : 6020404.065970479\n",
            "Resulting eigen vectors :  [-1.27541637e-02 -1.06747969e-02 -1.05099354e-02 -1.23723791e-02\n",
            " -7.80832008e-03 -1.30699206e-02 -1.18380875e-02 -1.30563390e-02\n",
            " -1.14128591e-02 -7.79828834e-03 -6.26388561e-03 -9.15871569e-03\n",
            " -7.99025638e-03 -1.18493757e-02 -7.12545763e-03 -3.43949059e-03\n",
            "  4.25002278e-02 -1.10283712e-02  2.40480423e-02  2.40480423e-02\n",
            " -1.92881138e-02 -1.58854809e-02 -8.65100858e-03 -8.56431845e-03\n",
            " -7.76433073e-03  1.15704120e-01  1.15704120e-01  1.73852911e-01\n",
            " -8.76030734e-03 -1.30603531e-02 -2.03253701e-04 -7.72540444e-03\n",
            " -1.17707309e-02 -9.46811419e-03 -9.46811419e-03 -5.61731704e-03\n",
            " -8.53745433e-03 -8.17947860e-03 -6.93962035e-03 -1.83400964e-03\n",
            " -7.22771409e-03  5.22202521e-05 -1.69178483e-02  6.95141227e-02\n",
            " -1.39955119e-02  6.72881470e-03 -8.92814938e-03  1.84316223e-01\n",
            " -9.25367289e-03  7.83363499e-03 -1.20595117e-02 -1.13920791e-02\n",
            "  3.53379756e-02  6.91745884e-03 -8.19358753e-03 -8.19358753e-03\n",
            " -1.10691513e-02 -7.40827001e-03 -1.43467667e-02 -1.10067753e-02\n",
            " -1.12657153e-02 -8.00331233e-03 -8.00331233e-03 -2.61835402e-03\n",
            " -4.66931523e-03 -7.26601636e-03 -1.59450759e-03 -5.95453296e-03\n",
            " -1.22563538e-02 -1.28286768e-02  4.08541109e-02 -1.14289750e-02\n",
            " -1.19694394e-02 -1.20302692e-02 -1.13138959e-02 -6.65531713e-03\n",
            " -8.90335939e-03 -2.30870194e-02 -1.16606978e-02 -1.29121097e-02\n",
            " -9.57332481e-03 -8.23577838e-03 -1.23598322e-02  1.19634431e-02\n",
            " -9.82293642e-03 -7.63206434e-03 -8.88023262e-03 -8.97156222e-03\n",
            " -1.54613245e-02  3.06122087e-02  1.05231574e-01  9.64473378e-02\n",
            "  1.03534049e-01  4.25049252e-02  1.50174409e-02 -1.36762621e-02\n",
            "  6.18111126e-02  1.05540367e-01  8.07470037e-03  4.70318815e-02\n",
            " -9.38894724e-03 -1.19211764e-02 -8.03581082e-03 -1.27398550e-02\n",
            " -1.08791981e-02 -1.80634773e-03 -1.80634773e-03 -8.24326389e-03\n",
            " -8.24326389e-03 -1.53252643e-02 -1.28580687e-02 -1.32228767e-03\n",
            " -6.63560484e-03 -4.74350289e-03  1.85475405e-02 -2.98740395e-02\n",
            " -2.13385723e-02  4.36698563e-01  2.42654577e-01  1.72598776e-01\n",
            "  4.02873435e-02  1.29841360e-02 -2.54393260e-03 -1.24897777e-02\n",
            " -9.27562077e-03 -1.04259664e-02 -9.70543957e-03 -9.78146636e-03\n",
            " -3.52519387e-02 -6.00436427e-03 -1.19870471e-02 -1.25143730e-02\n",
            " -9.28754364e-03 -1.38253150e-02 -8.29463634e-03  6.09508662e-01\n",
            " -3.82939440e-03  3.97260842e-03  3.97260842e-03 -9.06561394e-03\n",
            " -1.20268414e-02 -1.10016004e-02  3.20499387e-03  3.20499387e-03\n",
            " -1.74378297e-03 -1.24104278e-02 -9.81190154e-03 -1.50027078e-02\n",
            " -1.15698552e-02 -1.32308825e-02 -8.87139416e-03 -1.26249432e-02\n",
            " -9.35679562e-03 -1.06604162e-02  1.26171912e-02  1.97135282e-03\n",
            " -6.74951538e-03 -1.08364441e-02 -1.08364441e-02 -1.15143726e-02\n",
            "  2.18043392e-02 -5.22942427e-03 -1.35294318e-02 -5.50780953e-03\n",
            " -5.50780953e-03 -7.87057115e-03 -1.02398311e-02 -5.98925659e-03\n",
            " -2.35905526e-02 -2.49241965e-02 -1.03357406e-02  7.33968843e-02\n",
            " -1.73760551e-02 -8.05480824e-03 -8.05480824e-03 -9.15211187e-03\n",
            " -3.43547710e-03 -2.36342788e-02 -1.80251514e-02 -1.54473289e-02\n",
            " -1.24584536e-02 -1.04112433e-02 -8.34401719e-03 -1.16430068e-02\n",
            " -1.28235964e-02 -1.87193707e-03 -5.25347229e-03  1.94047542e-02\n",
            " -1.69759297e-02 -1.08184057e-02  1.44369415e-03  7.95451947e-04\n",
            " -7.04669790e-03 -1.11306494e-02 -9.41115749e-03 -2.55225571e-02\n",
            " -9.73483131e-03 -9.41440896e-03 -1.14487578e-02  1.26679321e-01\n",
            " -6.93682263e-03 -6.93682263e-03 -1.04946905e-02 -9.82937545e-03\n",
            " -9.09171340e-03 -1.07793911e-02 -7.34036619e-03  2.08193888e-01\n",
            " -2.49454090e-03 -1.20356779e-02  8.44851784e-03  5.12674018e-03\n",
            " -1.02326038e-02 -1.00138989e-02  4.13885992e-03 -1.02865169e-02\n",
            " -9.59754024e-03 -1.04954124e-02 -7.04703356e-03 -7.34451431e-03\n",
            " -1.05537306e-02 -1.13715238e-02 -1.18781643e-02 -1.17572050e-02\n",
            " -5.09565380e-03 -5.22515213e-03 -1.30726788e-02 -1.30408229e-02\n",
            " -1.33130178e-02 -2.61870205e-03  1.40687992e-02  1.14063877e-02\n",
            " -3.86439186e-02 -1.20959165e-02  2.83994456e-02 -9.06118480e-03\n",
            " -1.15041895e-02 -8.83307291e-03 -5.91562381e-03 -9.68266568e-03\n",
            " -1.08909714e-02 -1.33193367e-02 -1.26931008e-02 -1.44640189e-02\n",
            " -6.88082898e-03 -1.08657817e-02 -9.91460114e-03 -1.64062990e-02\n",
            " -1.59101843e-02 -1.76107244e-02 -9.85369035e-03 -7.08450626e-03\n",
            " -1.74474582e-02 -2.57378538e-02  6.46761476e-05 -9.25085714e-03\n",
            "  6.87912149e-04 -3.57640287e-03  6.23482472e-03 -6.04655534e-03\n",
            " -1.11794435e-02 -2.50952963e-03 -1.16841050e-02 -7.47119243e-03\n",
            " -1.02733889e-02 -7.30742236e-03 -9.96086320e-03 -4.53501385e-03\n",
            "  1.58420886e-02  6.04665720e-02 -1.34521434e-02 -1.12415334e-02\n",
            " -1.12779551e-02 -1.13293379e-02 -8.56025624e-03 -1.20430342e-02\n",
            " -1.19571518e-02 -5.66695366e-03 -1.27552730e-02 -1.30792164e-02\n",
            " -1.39444924e-02 -9.49700006e-03 -1.74850834e-02 -1.28975702e-02\n",
            " -1.14738292e-02 -1.09515366e-02  6.07371987e-04 -8.76048442e-03\n",
            " -1.20357328e-02 -1.23296710e-02 -8.00067020e-03 -1.38648081e-02\n",
            " -5.94009313e-03 -1.38248906e-02 -9.99769743e-03 -1.17990152e-02\n",
            " -8.61644983e-03 -1.08314460e-02 -1.24953715e-02 -1.47652386e-02\n",
            " -1.28065991e-02 -1.17648604e-02 -1.18464104e-02 -5.75998078e-03\n",
            " -7.87100415e-03 -1.15570569e-02  1.69622771e-02 -1.00490094e-02\n",
            " -1.58934298e-02 -1.04169507e-02 -6.08821048e-03 -1.10576271e-02\n",
            " -3.96653322e-03 -9.39076685e-03  2.09974211e-02 -1.38159597e-02\n",
            " -7.61481029e-03 -6.58848513e-03 -9.46466110e-03 -6.19453956e-03\n",
            " -8.72228344e-03 -1.04233495e-02  8.28809767e-04 -1.01050422e-02\n",
            " -1.13200523e-02 -1.16428461e-02 -3.29825200e-03 -5.22867251e-03\n",
            "  1.24122331e-03 -1.02292043e-02 -1.38073199e-02 -1.08683101e-02\n",
            "  6.02669954e-03 -7.08193460e-03 -1.00485693e-02 -1.02877024e-02\n",
            " -1.00900562e-02 -3.89951689e-03 -9.51165281e-03 -1.06520355e-02\n",
            " -7.33620154e-03 -9.55522356e-03 -1.18202378e-02  1.55236315e-02\n",
            " -1.64409308e-02 -1.19910042e-02 -4.08182929e-03 -8.44335300e-03\n",
            " -8.16247018e-03  2.87005802e-03 -1.05793911e-02 -1.07303944e-02\n",
            " -1.16310122e-02 -8.13547624e-03 -9.25575523e-03 -4.69585559e-03\n",
            " -9.67782445e-03 -1.10998847e-02 -1.30974865e-02 -9.99638430e-03\n",
            " -6.08040577e-03 -8.26931995e-03 -1.33059608e-02 -8.72188313e-03\n",
            " -1.15424424e-02 -1.02738902e-02 -1.74236180e-02 -8.95260203e-03\n",
            " -1.45090833e-02 -9.19813405e-03 -1.06290730e-02 -1.03809497e-02\n",
            " -8.80706077e-03 -1.26528493e-02 -9.56978237e-03 -1.24574797e-02\n",
            " -1.00036991e-02 -8.55887909e-03 -1.12206651e-02 -1.30819212e-02\n",
            " -3.96019178e-03 -9.64568491e-03 -9.78567601e-03 -1.06941968e-02\n",
            " -8.40374121e-03 -8.50189020e-03 -9.80656625e-03 -1.18408522e-02\n",
            "  1.19208623e-03 -7.11790277e-03 -9.05359511e-03 -1.06672616e-02\n",
            " -1.03760495e-02 -5.69475510e-03 -8.25899278e-03  9.26913622e-03\n",
            " -1.16295432e-02  1.62267544e-02  6.29152725e-03 -1.23614778e-02\n",
            " -1.07333333e-02 -1.21620592e-02 -7.34161387e-03 -3.44155390e-03\n",
            " -6.23474459e-03  1.50649990e-02  1.08067008e-01 -1.41732889e-02\n",
            " -5.86384864e-03 -1.12818398e-02 -1.27543770e-02 -1.56712950e-02\n",
            " -3.56690392e-03 -1.73060821e-02 -1.09189016e-02 -2.75173762e-02\n",
            " -2.87366814e-02 -3.40256232e-03 -9.51383734e-03 -6.03624549e-03\n",
            " -1.34720637e-02  4.10270088e-03 -7.22510586e-03 -5.90605849e-03\n",
            " -1.35769527e-02 -2.37433938e-02 -1.02867649e-02 -1.41211361e-02\n",
            " -1.30907383e-03 -1.09333813e-02 -9.04545403e-03 -1.09318314e-02\n",
            " -3.54892530e-03 -8.40030048e-03 -2.98148994e-03 -1.12986026e-02\n",
            " -1.19897790e-02 -1.09615831e-02 -2.67897308e-03 -3.09614209e-03\n",
            " -1.19450784e-02 -8.74868548e-03 -1.10539110e-02  4.05271554e-02\n",
            " -1.00604003e-02 -1.04462155e-02 -6.68078929e-03 -1.27112888e-02\n",
            " -2.74273753e-02 -1.10865229e-02 -1.15645513e-02 -1.06478907e-02\n",
            " -8.70341444e-03 -1.01224827e-02 -9.66975133e-03 -1.89382322e-02\n",
            " -6.02877581e-04 -1.14767490e-02 -1.02287767e-02 -7.50519425e-03\n",
            " -7.32496370e-03 -1.05512878e-02 -1.06600220e-02  6.67978528e-04\n",
            " -7.81237297e-03 -1.03093342e-02 -8.18138540e-03 -1.12915262e-02\n",
            " -7.95533547e-03 -1.00294416e-02  1.84157844e-03 -6.14746855e-03\n",
            " -1.36046072e-02 -1.09917565e-02  7.63193264e-02  1.25675050e-01\n",
            " -9.95299732e-03  3.29886647e-02  1.34373165e-02 -5.64235492e-03\n",
            " -8.49699076e-03  9.82805836e-03 -1.25474303e-02  1.11624325e-02\n",
            " -1.05902428e-02 -1.06171165e-02 -3.69881866e-03  1.33240584e-03\n",
            " -7.55960546e-03 -1.22325127e-02  4.27500452e-02 -9.36558391e-03\n",
            " -8.36407083e-03 -9.21802565e-03 -1.16345459e-02 -8.31873956e-03\n",
            " -9.49977292e-03 -6.87284443e-03 -8.86043178e-03  1.08061086e-02\n",
            " -5.23970898e-03  1.59877211e-02  6.87104561e-03  3.27704869e-03\n",
            "  1.23833270e-02  5.34378646e-02 -9.56323173e-03 -1.02168773e-02\n",
            " -1.11489664e-02 -1.18240151e-02 -6.83928892e-03  9.18755686e-03\n",
            " -1.15588895e-02 -9.38649744e-03 -3.81067108e-03  6.82762711e-02\n",
            "  5.37392252e-03 -1.27328231e-02 -1.21840655e-02 -1.16367851e-02\n",
            " -1.18194607e-02 -1.02747375e-02 -8.60016473e-03  9.72339428e-03\n",
            " -1.25490980e-02  4.68516487e-03 -1.05038593e-02  9.51988452e-03\n",
            " -1.25603722e-02  8.30438220e-02 -2.56364809e-03 -1.29961386e-02\n",
            "  1.27942514e-02 -8.18929840e-03  2.00473761e-05 -1.33652034e-02\n",
            " -9.91034538e-03 -1.15407571e-02 -7.44490188e-03 -1.10715625e-02\n",
            " -1.02186730e-02 -7.35130944e-03 -9.65315659e-03  2.28331096e-02\n",
            "  8.87897585e-03 -5.83673940e-03 -8.84547400e-03 -1.06228525e-02\n",
            " -1.02700272e-02  3.07686495e-03 -1.04838218e-02  2.44554568e-04\n",
            " -1.07013109e-02  3.46003999e-03  4.19580741e-02  6.19299040e-05\n",
            "  6.35102122e-02  3.87111833e-02  3.20111129e-02 -6.45363319e-03\n",
            " -9.40856575e-03  2.79332158e-03 -1.06586617e-02 -1.08620397e-02\n",
            "  1.29206425e-03  1.48211117e-02  2.17680025e-03  1.23066752e-03\n",
            "  3.02864069e-03 -1.00474315e-02 -8.18032024e-03 -1.04821614e-02\n",
            " -4.82284582e-03 -8.37458790e-03 -1.64285740e-02 -7.84512350e-03\n",
            " -8.17062298e-03 -9.51122811e-03 -1.17075760e-02]\n",
            "579\n"
          ],
          "name": "stdout"
        }
      ]
    },
    {
      "cell_type": "code",
      "metadata": {
        "id": "hWPeSn9Q2bsj"
      },
      "source": [
        "def householder_reflection(a, e):\n",
        "    assert a.ndim == 1\n",
        "    assert np.allclose(1, np.sum(e**2))\n",
        "\n",
        "    u = a - np.sign(a[0]) * np.linalg.norm(a) * e  \n",
        "    v = u / np.linalg.norm(u)\n",
        "\n",
        "    H = np.eye(len(a)) - 2 * np.outer(v, v)\n",
        "    \n",
        "    return H\n",
        "\n",
        "def qr_decomposition(A):\n",
        "    n, m = A.shape\n",
        "    assert n >= m\n",
        "\n",
        "    Q = np.eye(n)\n",
        "    R = A.copy()\n",
        "    \n",
        "    for i in range(m - int(n==m)):\n",
        "        r = R[i:, i]\n",
        "        \n",
        "        if np.allclose(r[1:], 0):\n",
        "            continue\n",
        "            \n",
        "        e = np.zeros(n-i)\n",
        "        e[0] = 1  \n",
        "        \n",
        "        H = np.eye(n)\n",
        "        H[i:, i:] = householder_reflection(r, e)\n",
        "\n",
        "        Q = Q @ H.T\n",
        "        R = H @ R\n",
        "    \n",
        "    return Q, R"
      ],
      "execution_count": null,
      "outputs": []
    },
    {
      "cell_type": "code",
      "metadata": {
        "id": "ZjeEjJFkFinl",
        "outputId": "9ff0fc01-bb8b-4222-da35-1fedd468e4f4",
        "colab": {
          "base_uri": "https://localhost:8080/"
        }
      },
      "source": [
        "#eigen decomposition using power method\n",
        "\n",
        "def simultaneous_power_iteration(A, k):\n",
        "    n, m = A.shape\n",
        "    Q = np.random.rand(n, k)\n",
        "    Q, _ = np.linalg.qr(Q)\n",
        "    Q_prev = Q\n",
        " \n",
        "    for i in range(1000):\n",
        "        Z = A.dot(Q)\n",
        "        Q, R = np.linalg.qr(Z)\n",
        "\n",
        "        # can use other stopping criteria as well \n",
        "        err = ((Q - Q_prev) ** 2).sum()\n",
        "\n",
        "        Q_prev = Q\n",
        "        if err < 1e-3:\n",
        "            break\n",
        "\n",
        "    return np.diag(R), Q\n",
        "\n",
        "eigen_values , eigen_vectors = simultaneous_power_iteration(q,9)\n",
        "print('eigen_values :',  eigen_values)\n",
        "print('eigen_vectors :', eigen_vectors)\n",
        "print(len(eigen_vectors))"
      ],
      "execution_count": null,
      "outputs": [
        {
          "output_type": "stream",
          "text": [
            "eigen_values : [ 6.02040407e+06  3.68100978e+06  6.86329752e+05  1.58060251e+04\n",
            "  2.03717775e+03  1.14126551e+02  3.72285512e+01  4.63401373e+00\n",
            " -4.39150103e-10]\n",
            "eigen_vectors : [[-1.27535531e-02  1.74370929e-02  6.93428982e-03 ... -2.00295330e-02\n",
            "  -5.52857380e-03  3.56199929e-03]\n",
            " [-1.06772341e-02 -6.95940145e-02 -2.86422891e-04 ... -5.67306541e-02\n",
            "  -1.13002018e-02 -1.60824445e-02]\n",
            " [-1.05111190e-02 -3.37973467e-02 -2.76671076e-03 ... -3.38020952e-02\n",
            "  -2.86529629e-02  3.46591661e-02]\n",
            " ...\n",
            " [-8.17035622e-03  7.61736930e-03  3.13294111e-04 ...  4.64404591e-03\n",
            "  -2.05355618e-03  2.91585773e-03]\n",
            " [-9.51062183e-03  1.73123875e-02  3.87534244e-03 ... -3.99619630e-03\n",
            "   5.70516812e-03  1.72266649e-02]\n",
            " [-1.17071590e-02  1.19082728e-02  5.03998494e-03 ...  9.74402201e-05\n",
            "  -5.76921885e-02  6.23301415e-03]]\n",
            "579\n"
          ],
          "name": "stdout"
        }
      ]
    },
    {
      "cell_type": "markdown",
      "metadata": {
        "id": "RABpg7XQFqlf"
      },
      "source": [
        "In the above output, eigenvectors give the PCA components and eigenvalues give the explained variances of the components. As we have 9 predictors here, we get 9 eigenvalues.\n",
        "\n",
        "The eigenvectors can now be sorted by the eigenvalues in descending order to provide a ranking of the components or axes of the new subspace for data matrix."
      ]
    },
    {
      "cell_type": "code",
      "metadata": {
        "id": "joTob1bpF21z"
      },
      "source": [
        "q = cov(C)"
      ],
      "execution_count": null,
      "outputs": []
    },
    {
      "cell_type": "code",
      "metadata": {
        "id": "rJz2KxY2F8ae",
        "outputId": "15aa215b-f307-4805-81f8-ad993fea59ba",
        "colab": {
          "base_uri": "https://localhost:8080/"
        }
      },
      "source": [
        "#eigen decomposition using power method\n",
        "\n",
        "def simultaneous_power_iteration(A, k):\n",
        "    n, m = A.shape\n",
        "    Q = np.random.rand(n, k)\n",
        "    Q, _ = np.linalg.qr(Q)\n",
        "    Q_prev = Q\n",
        " \n",
        "    for i in range(1000):\n",
        "        Z = A.dot(Q)\n",
        "        Q, R = np.linalg.qr(Z)\n",
        "\n",
        "        # can use other stopping criteria as well \n",
        "        err = ((Q - Q_prev) ** 2).sum()\n",
        "\n",
        "        Q_prev = Q\n",
        "        if err < 1e-3:\n",
        "            break\n",
        "\n",
        "    return np.diag(R), Q\n",
        "\n",
        "eigen_values , eigen_vectors = simultaneous_power_iteration(q,9)\n",
        "print('eigen_values :',  eigen_values)\n",
        "print('eigen_vectors :', eigen_vectors)"
      ],
      "execution_count": null,
      "outputs": [
        {
          "output_type": "stream",
          "text": [
            "eigen_values : [6.02040407e+06 3.68100978e+06 6.86329752e+05 1.58060251e+04\n",
            " 2.03717775e+03 1.14126551e+02 3.72285512e+01 4.63401373e+00\n",
            " 2.62210594e-10]\n",
            "eigen_vectors : [[-1.27535531e-02  1.74370929e-02  6.93428982e-03 ... -2.00295330e-02\n",
            "  -5.52857380e-03  1.77726404e-02]\n",
            " [-1.06772341e-02 -6.95940145e-02 -2.86422891e-04 ... -5.67306541e-02\n",
            "  -1.13002018e-02 -1.80955746e-02]\n",
            " [-1.05111190e-02 -3.37973467e-02 -2.76671076e-03 ... -3.38020952e-02\n",
            "  -2.86529629e-02 -1.75043032e-02]\n",
            " ...\n",
            " [-8.17035622e-03  7.61736930e-03  3.13294111e-04 ...  4.64404591e-03\n",
            "  -2.05355618e-03 -4.11187810e-03]\n",
            " [-9.51062183e-03  1.73123875e-02  3.87534244e-03 ... -3.99619630e-03\n",
            "   5.70516812e-03 -6.21331442e-03]\n",
            " [-1.17071590e-02  1.19082728e-02  5.03998494e-03 ...  9.74402201e-05\n",
            "  -5.76921885e-02  8.51567751e-03]]\n"
          ],
          "name": "stdout"
        }
      ]
    },
    {
      "cell_type": "markdown",
      "metadata": {
        "id": "JCWOX-jOF_wG"
      },
      "source": [
        "In the above output, eigenvectors give the PCA components and eigenvalues give the explained variances of the components. As we have 9 predictors here, we get 9 eigenvalues.\n",
        "\n",
        "The eigenvectors can now be sorted by the eigenvalues in descending order to provide a ranking of the components or axes of the new subspace for data matrix."
      ]
    },
    {
      "cell_type": "code",
      "metadata": {
        "id": "oRvKYuYZGEwi",
        "outputId": "5f32594c-7e92-4f8d-cde8-e8421e7eb71d",
        "colab": {
          "base_uri": "https://localhost:8080/"
        }
      },
      "source": [
        "def sort_eigs(evals, evecs, reverse=False):\n",
        "    \"\"\"return the sorted eigenvalues and eigenvectors\"\"\"\n",
        "    mylist = [(evals[i], evecs[:, i]) for i in range(len(evals))]\n",
        "    sortlist = sorted(mylist, key=lambda x: x[0], reverse=True)\n",
        "    evals = np.array([wv[0] for wv in sortlist])\n",
        "    evecs = evecs.copy()\n",
        "    for i in range(len(evals)):\n",
        "        evecs[:, i] = sortlist[i][1]\n",
        "    return evals, evecs\n",
        "\n",
        "sort_eigs(eigen_values, eigen_vectors)"
      ],
      "execution_count": null,
      "outputs": [
        {
          "output_type": "execute_result",
          "data": {
            "text/plain": [
              "(array([6.02040407e+06, 3.68100978e+06, 6.86329752e+05, 1.58060251e+04,\n",
              "        2.03717775e+03, 1.14126551e+02, 3.72285512e+01, 4.63401373e+00,\n",
              "        2.62210594e-10]),\n",
              " array([[-1.27535531e-02,  1.74370929e-02,  6.93428982e-03, ...,\n",
              "         -2.00295330e-02, -5.52857380e-03,  1.77726404e-02],\n",
              "        [-1.06772341e-02, -6.95940145e-02, -2.86422891e-04, ...,\n",
              "         -5.67306541e-02, -1.13002018e-02, -1.80955746e-02],\n",
              "        [-1.05111190e-02, -3.37973467e-02, -2.76671076e-03, ...,\n",
              "         -3.38020952e-02, -2.86529629e-02, -1.75043032e-02],\n",
              "        ...,\n",
              "        [-8.17035622e-03,  7.61736930e-03,  3.13294111e-04, ...,\n",
              "          4.64404591e-03, -2.05355618e-03, -4.11187810e-03],\n",
              "        [-9.51062183e-03,  1.73123875e-02,  3.87534244e-03, ...,\n",
              "         -3.99619630e-03,  5.70516812e-03, -6.21331442e-03],\n",
              "        [-1.17071590e-02,  1.19082728e-02,  5.03998494e-03, ...,\n",
              "          9.74402201e-05, -5.76921885e-02,  8.51567751e-03]]))"
            ]
          },
          "metadata": {
            "tags": []
          },
          "execution_count": 92
        }
      ]
    },
    {
      "cell_type": "code",
      "metadata": {
        "id": "NFYjDimBGGk5",
        "outputId": "7923483b-fb58-4f5a-ef8b-31167ce0a948",
        "colab": {
          "base_uri": "https://localhost:8080/"
        }
      },
      "source": [
        "explained_variances = []\n",
        "for i in range(len(eigen_values)):\n",
        "    explained_variances.append(eigen_values[i] / np.sum(eigen_values))\n",
        " \n",
        "print(np.sum(explained_variances), '\\n', explained_variances)"
      ],
      "execution_count": null,
      "outputs": [
        {
          "output_type": "stream",
          "text": [
            "1.0000000000000002 \n",
            " [0.5785655274423307, 0.35374791161356145, 0.06595682455521218, 0.0015189713417979626, 0.00019577437135263553, 1.0967650601361546e-05, 3.5776928099398395e-06, 4.4533233393163097e-07, 2.5198642621944198e-17]\n"
          ],
          "name": "stdout"
        }
      ]
    },
    {
      "cell_type": "markdown",
      "metadata": {
        "id": "TkefNZJEGIR4"
      },
      "source": [
        "Visualizations\n",
        "\n",
        "After applying PCA we’ve managed to explain most of the variance with only 2 principal components. (0.5785 + 0.3537 = 0.9322)(93.2% variance)\n",
        "\n",
        "Now we’ll create a Pandas DataFrame object consisting of those two components, alongside the target class."
      ]
    },
    {
      "cell_type": "code",
      "metadata": {
        "id": "e8bfkXG_GKv_",
        "outputId": "ee2350fc-25aa-4fe2-bebb-0aa55c937394",
        "colab": {
          "base_uri": "https://localhost:8080/",
          "height": 194
        }
      },
      "source": [
        "projected_1 = X1.dot(eigen_vectors[0])\n",
        "projected_2 = X1.dot(eigen_vectors[1])\n",
        "res = pd.DataFrame(projected_1, columns=['PC1'])\n",
        "res['PC2'] = projected_2\n",
        "res['Y'] = y1\n",
        "res.head()"
      ],
      "execution_count": null,
      "outputs": [
        {
          "output_type": "execute_result",
          "data": {
            "text/html": [
              "<div>\n",
              "<style scoped>\n",
              "    .dataframe tbody tr th:only-of-type {\n",
              "        vertical-align: middle;\n",
              "    }\n",
              "\n",
              "    .dataframe tbody tr th {\n",
              "        vertical-align: top;\n",
              "    }\n",
              "\n",
              "    .dataframe thead th {\n",
              "        text-align: right;\n",
              "    }\n",
              "</style>\n",
              "<table border=\"1\" class=\"dataframe\">\n",
              "  <thead>\n",
              "    <tr style=\"text-align: right;\">\n",
              "      <th></th>\n",
              "      <th>PC1</th>\n",
              "      <th>PC2</th>\n",
              "      <th>Y</th>\n",
              "    </tr>\n",
              "  </thead>\n",
              "  <tbody>\n",
              "    <tr>\n",
              "      <th>0</th>\n",
              "      <td>-10.953154</td>\n",
              "      <td>-7.819810</td>\n",
              "      <td>1</td>\n",
              "    </tr>\n",
              "    <tr>\n",
              "      <th>1</th>\n",
              "      <td>-38.496730</td>\n",
              "      <td>-26.653273</td>\n",
              "      <td>1</td>\n",
              "    </tr>\n",
              "    <tr>\n",
              "      <th>2</th>\n",
              "      <td>-27.093279</td>\n",
              "      <td>-19.608444</td>\n",
              "      <td>1</td>\n",
              "    </tr>\n",
              "    <tr>\n",
              "      <th>3</th>\n",
              "      <td>-10.636110</td>\n",
              "      <td>-7.510101</td>\n",
              "      <td>1</td>\n",
              "    </tr>\n",
              "    <tr>\n",
              "      <th>4</th>\n",
              "      <td>-11.865536</td>\n",
              "      <td>-8.553511</td>\n",
              "      <td>1</td>\n",
              "    </tr>\n",
              "  </tbody>\n",
              "</table>\n",
              "</div>"
            ],
            "text/plain": [
              "         PC1        PC2  Y\n",
              "0 -10.953154  -7.819810  1\n",
              "1 -38.496730 -26.653273  1\n",
              "2 -27.093279 -19.608444  1\n",
              "3 -10.636110  -7.510101  1\n",
              "4 -11.865536  -8.553511  1"
            ]
          },
          "metadata": {
            "tags": []
          },
          "execution_count": 94
        }
      ]
    },
    {
      "cell_type": "markdown",
      "metadata": {
        "id": "bbMRKhllGMYZ"
      },
      "source": [
        "Visualize this dataset in 1 dimension — as a line. To do so we’ll need to ditch the second principal component. The easiest way is to hardcode Y values as zeros, as the scatter plot requires values for both X and Y axis:"
      ]
    },
    {
      "cell_type": "code",
      "metadata": {
        "id": "Sasf_OMBGOmx",
        "outputId": "0efb48b1-7ebd-4196-e3b0-67567a7e06dc",
        "colab": {
          "base_uri": "https://localhost:8080/",
          "height": 680
        }
      },
      "source": [
        "import matplotlib.pyplot as plt\n",
        "import seaborn as sns\n",
        "plt.figure(figsize=(20, 10))\n",
        "sns.scatterplot(res['PC1'], [0] * len(res), hue=res['Y'], s=100)"
      ],
      "execution_count": null,
      "outputs": [
        {
          "output_type": "stream",
          "text": [
            "/usr/local/lib/python3.6/dist-packages/seaborn/_decorators.py:43: FutureWarning: Pass the following variables as keyword args: x, y. From version 0.12, the only valid positional argument will be `data`, and passing other arguments without an explicit keyword will result in an error or misinterpretation.\n",
            "  FutureWarning\n"
          ],
          "name": "stderr"
        },
        {
          "output_type": "execute_result",
          "data": {
            "text/plain": [
              "<matplotlib.axes._subplots.AxesSubplot at 0x7fc066495ba8>"
            ]
          },
          "metadata": {
            "tags": []
          },
          "execution_count": 95
        },
        {
          "output_type": "display_data",
          "data": {
            "image/png": "[encoded data removed]",
            "text/plain": [
              "<Figure size 1440x720 with 1 Axes>"
            ]
          },
          "metadata": {
            "tags": [],
            "needs_background": "light"
          }
        }
      ]
    },
    {
      "cell_type": "markdown",
      "metadata": {
        "id": "e2Mv4KHvGQJx"
      },
      "source": [
        "Let’s now see how this looks in a 2D space:"
      ]
    },
    {
      "cell_type": "code",
      "metadata": {
        "id": "o8JnT3dCGRx5",
        "outputId": "c692d99c-2867-49d4-ab93-330c5ccb3d6d",
        "colab": {
          "base_uri": "https://localhost:8080/",
          "height": 680
        }
      },
      "source": [
        "plt.figure(figsize=(20, 10))\n",
        "sns.scatterplot(res['PC1'], res['PC2'], hue=res['Y'], s=100)"
      ],
      "execution_count": null,
      "outputs": [
        {
          "output_type": "stream",
          "text": [
            "/usr/local/lib/python3.6/dist-packages/seaborn/_decorators.py:43: FutureWarning: Pass the following variables as keyword args: x, y. From version 0.12, the only valid positional argument will be `data`, and passing other arguments without an explicit keyword will result in an error or misinterpretation.\n",
            "  FutureWarning\n"
          ],
          "name": "stderr"
        },
        {
          "output_type": "execute_result",
          "data": {
            "text/plain": [
              "<matplotlib.axes._subplots.AxesSubplot at 0x7fc066374630>"
            ]
          },
          "metadata": {
            "tags": []
          },
          "execution_count": 96
        },
        {
          "output_type": "display_data",
          "data": {
            "image/png": "[encoded data removed]",
            "text/plain": [
              "<Figure size 1440x720 with 1 Axes>"
            ]
          },
          "metadata": {
            "tags": [],
            "needs_background": "light"
          }
        }
      ]
    }
  ]
}